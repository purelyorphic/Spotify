{
 "cells": [
  {
   "cell_type": "markdown",
   "id": "0bbe57c7",
   "metadata": {},
   "source": [
    "# Decoding the Beat\n",
    "## A Data-Driven Insight into Spotify's Recommendation System"
   ]
  },
  {
   "cell_type": "markdown",
   "id": "90b14410",
   "metadata": {},
   "source": [
    "### Objective\n",
    "- Analyze Spotify's track features\n",
    "- Clean and preprocess the data\n",
    "- Explore patterns in genres and audio features\n",
    "- Generate visual insights for recommendation logic"
   ]
  },
  {
   "cell_type": "code",
   "execution_count": null,
   "id": "603021b6",
   "metadata": {},
   "outputs": [],
   "source": [
    "import pandas as pd\n",
    "import numpy as np\n",
    "import matplotlib.pyplot as plt\n",
    "import seaborn as sns\n",
    "import warnings\n",
    "warnings.filterwarnings('ignore')"
   ]
  },
  {
   "cell_type": "markdown",
   "id": "2327f90e",
   "metadata": {},
   "source": [
    "### Load Dataset"
   ]
  },
  {
   "cell_type": "code",
   "execution_count": null,
   "id": "8c7aeb23",
   "metadata": {},
   "outputs": [],
   "source": [
    "df = pd.read_csv(\"SpotifyFeatures.csv\")\n",
    "df.head()"
   ]
  },
  {
   "cell_type": "markdown",
   "id": "c3a04ddf",
   "metadata": {},
   "source": [
    "### Data Cleaning\n",
    "- Drop unnecessary columns\n",
    "- Remove missing values and duplicates"
   ]
  },
  {
   "cell_type": "code",
   "execution_count": null,
   "id": "c244a098",
   "metadata": {},
   "outputs": [],
   "source": [
    "df.drop(['track_id', 'track_name', 'artist_name'], axis=1, inplace=True)\n",
    "df.dropna(inplace=True)\n",
    "df.drop_duplicates(inplace=True)"
   ]
  },
  {
   "cell_type": "markdown",
   "id": "8af58b16",
   "metadata": {},
   "source": [
    "### Feature Engineering\n",
    "- One-hot encoding genres"
   ]
  },
  {
   "cell_type": "code",
   "execution_count": null,
   "id": "77c7b872",
   "metadata": {},
   "outputs": [],
   "source": [
    "df = pd.get_dummies(df, columns=['genre'], drop_first=True)"
   ]
  },
  {
   "cell_type": "markdown",
   "id": "d63a1dbf",
   "metadata": {},
   "source": [
    "### Handle Outliers using IQR for 'tempo'"
   ]
  },
  {
   "cell_type": "code",
   "execution_count": null,
   "id": "500302a6",
   "metadata": {},
   "outputs": [],
   "source": [
    "Q1 = df['tempo'].quantile(0.25)\n",
    "Q3 = df['tempo'].quantile(0.75)\n",
    "IQR = Q3 - Q1\n",
    "df = df[(df['tempo'] >= Q1 - 1.5 * IQR) & (df['tempo'] <= Q3 + 1.5 * IQR)]"
   ]
  },
  {
   "cell_type": "markdown",
   "id": "8e86d189",
   "metadata": {},
   "source": [
    "### Summary Statistics"
   ]
  },
  {
   "cell_type": "code",
   "execution_count": null,
   "id": "6c16ed23",
   "metadata": {},
   "outputs": [],
   "source": [
    "df.describe()"
   ]
  },
  {
   "cell_type": "markdown",
   "id": "96647274",
   "metadata": {},
   "source": [
    "### Visualizations"
   ]
  },
  {
   "cell_type": "code",
   "execution_count": null,
   "id": "ea35af2f",
   "metadata": {},
   "outputs": [],
   "source": [
    "genre_cols = [col for col in df.columns if col.startswith('genre_')]\n",
    "genre_sums = df[genre_cols].sum().sort_values(ascending=False)\n",
    "plt.figure(figsize=(10, 6))\n",
    "genre_sums.plot(kind='bar')\n",
    "plt.title('Genre Distribution')\n",
    "plt.xlabel('Genre')\n",
    "plt.ylabel('Number of Tracks')\n",
    "plt.show()"
   ]
  },
  {
   "cell_type": "code",
   "execution_count": null,
   "id": "ec068a2a",
   "metadata": {},
   "outputs": [],
   "source": [
    "plt.figure(figsize=(14, 10))\n",
    "sns.heatmap(df.corr(), annot=True, fmt='.2f', cmap='coolwarm')\n",
    "plt.title('Correlation Heatmap')\n",
    "plt.show()"
   ]
  },
  {
   "cell_type": "markdown",
   "id": "a3685015",
   "metadata": {},
   "source": [
    "### Conclusion\n",
    "- Dataset cleaned and engineered\n",
    "- Genre and feature patterns analyzed\n",
    "- Visual insights created for understanding Spotify recommendations"
   ]
  }
 ],
 "metadata": {},
 "nbformat": 4,
 "nbformat_minor": 5
}
